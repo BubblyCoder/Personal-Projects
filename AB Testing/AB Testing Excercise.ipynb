{
 "cells": [
  {
   "cell_type": "markdown",
   "metadata": {},
   "source": [
    "In this jupyter notebook, we will attempt to do A/B Testing through the cookie cats dataset.\n",
    "Cookie Cats is a mobile puzzle game developed by Tactile Entertainment. It's a classic \"connect three\" style puzzle game where the player must connect tiles of the same color in order to clear the board and win the level. \n",
    "\n",
    "Link of kaggle: https://www.kaggle.com/code/ekrembayar/a-b-testing-step-by-step-hypothesis-testing/notebook"
   ]
  },
  {
   "cell_type": "markdown",
   "metadata": {},
   "source": [
    "## Summary of game\n",
    "As players progress through the game they will encounter gates that force them to wait some time before they can progress or make an in-app purchase. In this project, we will analyze the result of an A/B test where the first gate in Cookie Cats was moved from level 30 to level 40. In particular, we will analyze the impact on player retention and game rounds"
   ]
  },
  {
   "cell_type": "markdown",
   "metadata": {},
   "source": [
    "## Data description\n",
    "The data is from 90,189 players that installed the game while the AB-test was running. The variables are:\n",
    "\n",
    "userid - a unique number that identifies each player.\n",
    "\n",
    "version - whether the player was put in the control group (gate_30 - a gate at level 30) or the test group (gate_40 - a gate at level 40).\n",
    "\n",
    "sum_gamerounds - the number of game rounds played by the player during the first week after installation\n",
    "\n",
    "retention_1 - did the player come back and play 1 day after installing?\n",
    "\n",
    "retention_7 - did the player come back and play 7 days after installing?\n",
    "\n",
    "When a player installed the game, he or she was randomly assigned to either gate_30 or gate_40."
   ]
  },
  {
   "cell_type": "markdown",
   "metadata": {},
   "source": [
    "## Libraries and dataset read in"
   ]
  },
  {
   "cell_type": "code",
   "execution_count": 1,
   "metadata": {},
   "outputs": [],
   "source": [
    "import pandas as pd \n",
    "import numpy as np\n",
    "import matplotlib.pyplot as plt\n",
    "import seaborn as sns\n",
    "import zipfile\n",
    "import os"
   ]
  },
  {
   "cell_type": "code",
   "execution_count": 2,
   "metadata": {},
   "outputs": [
    {
     "name": "stdout",
     "output_type": "stream",
     "text": [
      "<class 'pandas.core.frame.DataFrame'>\n",
      "RangeIndex: 90189 entries, 0 to 90188\n",
      "Data columns (total 5 columns):\n",
      " #   Column          Non-Null Count  Dtype \n",
      "---  ------          --------------  ----- \n",
      " 0   userid          90189 non-null  int64 \n",
      " 1   version         90189 non-null  object\n",
      " 2   sum_gamerounds  90189 non-null  int64 \n",
      " 3   retention_1     90189 non-null  bool  \n",
      " 4   retention_7     90189 non-null  bool  \n",
      "dtypes: bool(2), int64(2), object(1)\n",
      "memory usage: 2.2+ MB\n"
     ]
    },
    {
     "data": {
      "text/html": [
       "<div>\n",
       "<style scoped>\n",
       "    .dataframe tbody tr th:only-of-type {\n",
       "        vertical-align: middle;\n",
       "    }\n",
       "\n",
       "    .dataframe tbody tr th {\n",
       "        vertical-align: top;\n",
       "    }\n",
       "\n",
       "    .dataframe thead th {\n",
       "        text-align: right;\n",
       "    }\n",
       "</style>\n",
       "<table border=\"1\" class=\"dataframe\">\n",
       "  <thead>\n",
       "    <tr style=\"text-align: right;\">\n",
       "      <th></th>\n",
       "      <th>userid</th>\n",
       "      <th>version</th>\n",
       "      <th>sum_gamerounds</th>\n",
       "      <th>retention_1</th>\n",
       "      <th>retention_7</th>\n",
       "    </tr>\n",
       "  </thead>\n",
       "  <tbody>\n",
       "    <tr>\n",
       "      <th>0</th>\n",
       "      <td>116</td>\n",
       "      <td>gate_30</td>\n",
       "      <td>3</td>\n",
       "      <td>False</td>\n",
       "      <td>False</td>\n",
       "    </tr>\n",
       "    <tr>\n",
       "      <th>1</th>\n",
       "      <td>337</td>\n",
       "      <td>gate_30</td>\n",
       "      <td>38</td>\n",
       "      <td>True</td>\n",
       "      <td>False</td>\n",
       "    </tr>\n",
       "    <tr>\n",
       "      <th>2</th>\n",
       "      <td>377</td>\n",
       "      <td>gate_40</td>\n",
       "      <td>165</td>\n",
       "      <td>True</td>\n",
       "      <td>False</td>\n",
       "    </tr>\n",
       "    <tr>\n",
       "      <th>3</th>\n",
       "      <td>483</td>\n",
       "      <td>gate_40</td>\n",
       "      <td>1</td>\n",
       "      <td>False</td>\n",
       "      <td>False</td>\n",
       "    </tr>\n",
       "    <tr>\n",
       "      <th>4</th>\n",
       "      <td>488</td>\n",
       "      <td>gate_40</td>\n",
       "      <td>179</td>\n",
       "      <td>True</td>\n",
       "      <td>True</td>\n",
       "    </tr>\n",
       "  </tbody>\n",
       "</table>\n",
       "</div>"
      ],
      "text/plain": [
       "   userid  version  sum_gamerounds  retention_1  retention_7\n",
       "0     116  gate_30               3        False        False\n",
       "1     337  gate_30              38         True        False\n",
       "2     377  gate_40             165         True        False\n",
       "3     483  gate_40               1        False        False\n",
       "4     488  gate_40             179         True         True"
      ]
     },
     "execution_count": 2,
     "metadata": {},
     "output_type": "execute_result"
    }
   ],
   "source": [
    "#Read dataset\n",
    "df = pd.read_csv('cookie_cats.zip')\n",
    "df.info()\n",
    "df.head()"
   ]
  },
  {
   "cell_type": "markdown",
   "metadata": {},
   "source": [
    "## Basic Sanity check on dtypes and data"
   ]
  },
  {
   "cell_type": "code",
   "execution_count": 3,
   "metadata": {},
   "outputs": [
    {
     "name": "stdout",
     "output_type": "stream",
     "text": [
      "userid ok \n",
      "\n",
      "version ok \n",
      "\n",
      "sum-gamerounds ok \n",
      "\n",
      "retention_1 ok \n",
      "\n",
      "retention_7 ok \n",
      "\n"
     ]
    }
   ],
   "source": [
    "#Verify the number of unique userid\n",
    "if df['userid'].nunique() == len(df):\n",
    "    print(f'userid ok \\n')\n",
    "else:\n",
    "    print(f'{len(df)} unique ids not equivalent \\n')\n",
    "if len(df[~df['version'].isin(['gate_30','gate_40'])]) >0:\n",
    "    print('diff version of data in dataset')\n",
    "else:\n",
    "    print('version ok \\n')\n",
    "\n",
    "#Check sum_gamerounds\n",
    "if df['sum_gamerounds'].dtypes != 'int64':\n",
    "    print('sum_gamerounds has non int \\n')\n",
    "else:\n",
    "    print('sum-gamerounds ok \\n')\n",
    "\n",
    "#Check retention_1\n",
    "if df['retention_1'].dtypes == 'bool':\n",
    "    print('retention_1 ok \\n')\n",
    "else:\n",
    "    print('retention_1 is not bool dtype \\n')\n",
    "\n",
    "#Check retention_7\n",
    "if df['retention_7'].dtypes == 'bool':\n",
    "    print('retention_7 ok \\n')\n",
    "else:\n",
    "    print('retention_7 is not bool dtype \\n')"
   ]
  },
  {
   "cell_type": "code",
   "execution_count": 4,
   "metadata": {},
   "outputs": [
    {
     "data": {
      "text/plain": [
       "False    90189\n",
       "Name: version, dtype: int64"
      ]
     },
     "execution_count": 4,
     "metadata": {},
     "output_type": "execute_result"
    }
   ],
   "source": [
    "#Each userid should only be allocated to one ver of the test\n",
    "(df.groupby('userid')['version'].count() >1).value_counts()"
   ]
  },
  {
   "cell_type": "markdown",
   "metadata": {},
   "source": [
    "## EDA"
   ]
  },
  {
   "cell_type": "code",
   "execution_count": 5,
   "metadata": {},
   "outputs": [
    {
     "name": "stdout",
     "output_type": "stream",
     "text": [
      "count    90189.000000\n",
      "mean        51.872457\n",
      "std        195.050858\n",
      "min          0.000000\n",
      "25%          5.000000\n",
      "50%         16.000000\n",
      "75%         51.000000\n",
      "max      49854.000000\n",
      "Name: sum_gamerounds, dtype: float64\n"
     ]
    },
    {
     "data": {
      "image/png": "[encoded data removed]",
      "text/plain": [
       "<Figure size 432x288 with 1 Axes>"
      ]
     },
     "metadata": {
      "needs_background": "light"
     },
     "output_type": "display_data"
    }
   ],
   "source": [
    "sns.boxplot(x = df[\"sum_gamerounds\"])\n",
    "print(df[\"sum_gamerounds\"].describe())"
   ]
  },
  {
   "cell_type": "code",
   "execution_count": 6,
   "metadata": {},
   "outputs": [
    {
     "data": {
      "text/plain": [
       "Text(0.5, 1.0, 'Boxplot between gate_30,gate_40')"
      ]
     },
     "execution_count": 6,
     "metadata": {},
     "output_type": "execute_result"
    },
    {
     "data": {
      "image/png": "[encoded data removed]",
      "text/plain": [
       "<Figure size 432x288 with 1 Axes>"
      ]
     },
     "metadata": {
      "needs_background": "light"
     },
     "output_type": "display_data"
    }
   ],
   "source": [
    "#Removing the outlier and compare both versions\n",
    "sns.boxplot(data = df,x = 'version',y= df.loc[df[\"sum_gamerounds\"] <40000,'sum_gamerounds'])\n",
    "plt.title('Boxplot between gate_30,gate_40')"
   ]
  },
  {
   "cell_type": "code",
   "execution_count": 7,
   "metadata": {},
   "outputs": [
    {
     "data": {
      "text/plain": [
       "0.25      5.0\n",
       "0.50     16.0\n",
       "0.75     51.0\n",
       "0.90    134.0\n",
       "0.90    134.0\n",
       "0.95    221.0\n",
       "Name: sum_gamerounds, dtype: float64"
      ]
     },
     "execution_count": 7,
     "metadata": {},
     "output_type": "execute_result"
    }
   ],
   "source": [
    "#Removing the outlier and allocating it a variable\n",
    "df_cleanse = df[df[\"sum_gamerounds\"] <40000].reset_index(drop= True)\n",
    "# df_cleanse[\"sum_gamerounds\"].nlargest(40)\n",
    "\n",
    "df_cleanse['sum_gamerounds'].quantile([0.25,0.5,0.75,0.9,0.9,0.95])\n",
    "\n",
    "#There are quite a number of variability"
   ]
  },
  {
   "cell_type": "code",
   "execution_count": 8,
   "metadata": {},
   "outputs": [],
   "source": [
    "#Explore how placing the gate at level 30 and 40 differs in their retention\n",
    "df_30 = df_cleanse[df_cleanse['version'] =='gate_30']\n",
    "df_40 = df_cleanse[df_cleanse['version'] =='gate_40']"
   ]
  },
  {
   "cell_type": "code",
   "execution_count": 20,
   "metadata": {
    "scrolled": false
   },
   "outputs": [
    {
     "data": {
      "text/plain": [
       "Text(0.5, 1.0, 'Retention of players after 7 day (False)')"
      ]
     },
     "execution_count": 20,
     "metadata": {},
     "output_type": "execute_result"
    },
    {
     "data": {
      "image/png": "[encoded data removed]",
      "text/plain": [
       "<Figure size 1296x576 with 4 Axes>"
      ]
     },
     "metadata": {
      "needs_background": "light"
     },
     "output_type": "display_data"
    }
   ],
   "source": [
    "fig , axs = plt.subplots(1,4, figsize =(18,8))\n",
    "degrees = 90\n",
    "\n",
    "#retention_1 True\n",
    "sns.histplot( x= 'sum_gamerounds',data = df_30[df_30['retention_1'] == True],ax =axs[0],palette = 'winter')\n",
    "axs[0].set_title('Retention of players after 1 day (True)')\n",
    "plt.xticks(rotation='vertical')\n",
    "\n",
    "#retention_1 False\n",
    "sns.histplot( x= 'sum_gamerounds',data = df_30[df_30['retention_1'] == False],ax =axs[1],palette = 'winter')\n",
    "axs[1].set_title('Retention of players after 1 day (False)')\n",
    "\n",
    "#retention_7 True\n",
    "sns.histplot( x= 'sum_gamerounds',data = df_30[df_30['retention_7'] == True],ax =axs[2],palette = 'winter')\n",
    "axs[2].set_title('Retention of players after 7 day (True)')\n",
    "\n",
    "\n",
    "#retention_7 False\n",
    "sns.histplot( x= 'sum_gamerounds',data = df_30[df_30['retention_7'] == False],ax =axs[3],palette = 'winter')\n",
    "axs[3].set_title('Retention of players after 7 day (False)')\n"
   ]
  },
  {
   "cell_type": "raw",
   "metadata": {},
   "source": [
    "We do notice quite a number of people played 0 rounds after installation after 1 day,\n",
    "but came back onto the next day "
   ]
  },
  {
   "cell_type": "markdown",
   "metadata": {},
   "source": [
    "## Gamers who did not play subsequently"
   ]
  },
  {
   "cell_type": "code",
   "execution_count": 53,
   "metadata": {},
   "outputs": [
    {
     "name": "stdout",
     "output_type": "stream",
     "text": [
      "total number of installers: 90189 \n",
      "\n",
      "total not played: 3994 ,\n",
      "percent: 4.43%\n",
      "-----------------------------------\n",
      "Installed but not played: 5 ,\n",
      "percent: 0.01%\n",
      "-----------------------------------\n",
      "played after 1 day: 40066 ,\n",
      "percent: 44.42%\n",
      "-----------------------------------\n",
      "played within a week and STOP: 26889 ,\n",
      "percent: 29.81%\n",
      "-----------------------------------\n",
      "played after 7 day: 16752 ,\n",
      "percent: 18.57%\n"
     ]
    }
   ],
   "source": [
    "#General understanding of the number of people who did not play at all\n",
    "\n",
    "#total number of players who did not play regardless of retention\n",
    "total_not_play = df[(df['sum_gamerounds']==0)].shape[0]\n",
    "\n",
    "#number of players who open the app but not play\n",
    "not_play = df[(df['sum_gamerounds']==0) & (df['retention_1'] == True) & (df['retention_7'] == True)].shape[0]\n",
    "\n",
    "#number of players who played after 1 day of installation\n",
    "played_retent_1 = df[(df['sum_gamerounds'] >0) & (df['retention_1'] == True)].shape[0]\n",
    "\n",
    "#number of players who played with a week and stop\n",
    "played_not_retent_1 = df[(df['sum_gamerounds'] >0) & (df['retention_1'] == True) & (df['retention_7'] == False)].shape[0]\n",
    "\n",
    "#number of players who played after 7 day of installation\n",
    "played_retent_7 = df[(df['sum_gamerounds'] >0) & (df['retention_7'] == True)].shape[0]\n",
    "\n",
    "print(f'total number of installers: {len(df)} \\n')\n",
    "print(f'total not played: {total_not_play} ,\\npercent: {round(100*(total_not_play/len(df)),2)}%')\n",
    "print('-'*35)\n",
    "print(f'Installed but not played: {not_play} ,\\npercent: {round(100*(not_play/len(df)),2)}%')\n",
    "print('-'*35)\n",
    "print(f'played after 1 day: {played_retent_1} ,\\npercent: {round(100*(played_retent_1/len(df)),2)}%')\n",
    "print('-'*35)\n",
    "print(f'played within a week and STOP: {played_not_retent_1} ,\\npercent: {round(100*(played_not_retent_1/len(df)),2)}%')\n",
    "print('-'*35)\n",
    "print(f'played after 7 day: {played_retent_7} ,\\npercent: {round(100*(played_retent_7/len(df)),2)}%')"
   ]
  },
  {
   "cell_type": "markdown",
   "metadata": {},
   "source": [
    "## Number of players who reach gate 30 or 40"
   ]
  },
  {
   "cell_type": "code",
   "execution_count": 49,
   "metadata": {},
   "outputs": [
    {
     "name": "stdout",
     "output_type": "stream",
     "text": [
      "Number of players reaching gate 30 while being in gate_30 group: 16655       \n",
      " percentage: 37.26%\n",
      "Number of players reaching gate 40 while being in gate_40 group: 13827       \n",
      " percentage: 37.26%\n"
     ]
    }
   ],
   "source": [
    "#number of players in gate_30 and achieve gate 30\n",
    "r_gate30_at30 = df_30[(df_30['sum_gamerounds'] >=30)].shape[0]\n",
    "\n",
    "#number of players in gate_40 and achieve gate 40 \n",
    "r_gate40_at40 = df_40[(df_40['sum_gamerounds'] >=40)].shape[0]\n",
    "\n",
    "\n",
    "print(f'Number of players reaching gate 30 while being in gate_30 group: {r_gate30_at30} \\\n",
    "      \\n percentage: {round(100*(r_gate30_at30/len(df_30)),2)}%')\n",
    "\n",
    "print(f'Number of players reaching gate 40 while being in gate_40 group: {r_gate40_at40} \\\n",
    "      \\n percentage: {round(100*(r_gate30_at30/len(df_30)),2)}%')"
   ]
  },
  {
   "cell_type": "markdown",
   "metadata": {},
   "source": [
    "## Overall gamer churn over sum_gamerounds"
   ]
  },
  {
   "cell_type": "code",
   "execution_count": 59,
   "metadata": {},
   "outputs": [
    {
     "data": {
      "text/plain": [
       "Index(['userid', 'version', 'sum_gamerounds', 'retention_1', 'retention_7'], dtype='object')"
      ]
     },
     "execution_count": 59,
     "metadata": {},
     "output_type": "execute_result"
    }
   ],
   "source": [
    "df.columns"
   ]
  },
  {
   "cell_type": "code",
   "execution_count": 68,
   "metadata": {},
   "outputs": [
    {
     "name": "stdout",
     "output_type": "stream",
     "text": [
      "5538\n"
     ]
    },
    {
     "data": {
      "image/png": "[encoded data removed]",
      "text/plain": [
       "<Figure size 432x288 with 1 Axes>"
      ]
     },
     "metadata": {
      "needs_background": "light"
     },
     "output_type": "display_data"
    }
   ],
   "source": [
    "overall_churn = pd.DataFrame(df.groupby('sum_gamerounds')['userid'].count()).head(50)\n",
    "overall_churn.plot()\n",
    "\n",
    "print(f'overall_churn['userid'].max())"
   ]
  },
  {
   "cell_type": "code",
   "execution_count": 78,
   "metadata": {},
   "outputs": [
    {
     "data": {
      "text/html": [
       "<div>\n",
       "<style scoped>\n",
       "    .dataframe tbody tr th:only-of-type {\n",
       "        vertical-align: middle;\n",
       "    }\n",
       "\n",
       "    .dataframe tbody tr th {\n",
       "        vertical-align: top;\n",
       "    }\n",
       "\n",
       "    .dataframe thead th {\n",
       "        text-align: right;\n",
       "    }\n",
       "</style>\n",
       "<table border=\"1\" class=\"dataframe\">\n",
       "  <thead>\n",
       "    <tr style=\"text-align: right;\">\n",
       "      <th></th>\n",
       "      <th>userid</th>\n",
       "    </tr>\n",
       "    <tr>\n",
       "      <th>sum_gamerounds</th>\n",
       "      <th></th>\n",
       "    </tr>\n",
       "  </thead>\n",
       "  <tbody>\n",
       "    <tr>\n",
       "      <th>0</th>\n",
       "      <td>3994</td>\n",
       "    </tr>\n",
       "    <tr>\n",
       "      <th>1</th>\n",
       "      <td>5538</td>\n",
       "    </tr>\n",
       "    <tr>\n",
       "      <th>2</th>\n",
       "      <td>4606</td>\n",
       "    </tr>\n",
       "    <tr>\n",
       "      <th>3</th>\n",
       "      <td>3958</td>\n",
       "    </tr>\n",
       "    <tr>\n",
       "      <th>4</th>\n",
       "      <td>3629</td>\n",
       "    </tr>\n",
       "  </tbody>\n",
       "</table>\n",
       "</div>"
      ],
      "text/plain": [
       "                userid\n",
       "sum_gamerounds        \n",
       "0                 3994\n",
       "1                 5538\n",
       "2                 4606\n",
       "3                 3958\n",
       "4                 3629"
      ]
     },
     "execution_count": 78,
     "metadata": {},
     "output_type": "execute_result"
    }
   ],
   "source": [
    "overall_churn[overall_churn['userid'].isin(overall_churn['userid'].nlargest(5))]"
   ]
  },
  {
   "cell_type": "markdown",
   "metadata": {},
   "source": [
    "## Bootstraping Method"
   ]
  },
  {
   "cell_type": "code",
   "execution_count": 91,
   "metadata": {},
   "outputs": [],
   "source": [
    "## This portion is taken from https://www.kaggle.com/code/yufengsui/datacamp-project-mobile-games-a-b-testing/notebook"
   ]
  },
  {
   "cell_type": "code",
   "execution_count": 93,
   "metadata": {},
   "outputs": [
    {
     "data": {
      "text/plain": [
       "<AxesSubplot:ylabel='Density'>"
      ]
     },
     "execution_count": 93,
     "metadata": {},
     "output_type": "execute_result"
    },
    {
     "data": {
      "image/png": "[encoded data removed]",
      "text/plain": [
       "<Figure size 432x288 with 1 Axes>"
      ]
     },
     "metadata": {
      "needs_background": "light"
     },
     "output_type": "display_data"
    }
   ],
   "source": [
    "# Creating an list with bootstrapped means for each AB-group\n",
    "boot_1d = []\n",
    "for i in range(1000):\n",
    "    boot_mean = df.sample(frac = 1,replace = True).groupby('version')['retention_1'].mean()\n",
    "    boot_1d.append(boot_mean)\n",
    "\n",
    "#frac is percentage of sample size, if its 0.25, its 25%\n",
    "    \n",
    "# Transforming the list to a DataFrame\n",
    "boot_1d = pd.DataFrame(boot_1d)\n",
    "    \n",
    "# A Kernel Density Estimate plot of the bootstrap distributions\n",
    "boot_1d.plot(kind='density')"
   ]
  },
  {
   "cell_type": "code",
   "execution_count": 86,
   "metadata": {},
   "outputs": [
    {
     "name": "stdout",
     "output_type": "stream",
     "text": [
      "Probability that 1-day retention is greater when the gate is at level 30: 0.961\n"
     ]
    },
    {
     "data": {
      "image/png": "[encoded data removed]",
      "text/plain": [
       "<Figure size 432x288 with 1 Axes>"
      ]
     },
     "metadata": {
      "needs_background": "light"
     },
     "output_type": "display_data"
    }
   ],
   "source": [
    "# Adding a column with the % difference between the two AB-groups\n",
    "boot_1d['diff'] = (boot_1d['gate_30'] - boot_1d['gate_40'])/boot_1d['gate_40']*100\n",
    "\n",
    "# Ploting the bootstrap % difference\n",
    "ax = boot_1d['diff'].plot(kind='density')\n",
    "ax.set_title('% difference in 1-day retention between the two AB-groups')\n",
    "\n",
    "# Calculating the probability that 1-day retention is greater when the gate is at level 30\n",
    "print('Probability that 1-day retention is greater when the gate is at level 30:',(boot_1d['diff'] > 0).mean())"
   ]
  },
  {
   "cell_type": "code",
   "execution_count": 96,
   "metadata": {},
   "outputs": [
    {
     "name": "stdout",
     "output_type": "stream",
     "text": [
      "Probability that 7-day retention is greater when the gate is at level 30: 0.996\n"
     ]
    },
    {
     "data": {
      "image/png": "[encoded data removed]",
      "text/plain": [
       "<Figure size 432x288 with 1 Axes>"
      ]
     },
     "metadata": {
      "needs_background": "light"
     },
     "output_type": "display_data"
    }
   ],
   "source": [
    "# Creating a list with bootstrapped means for each AB-group\n",
    "boot_7d = []\n",
    "for i in range(500):\n",
    "    boot_mean = df.sample(frac=1,replace=True).groupby('version')['retention_7'].mean()\n",
    "    boot_7d.append(boot_mean)\n",
    "    \n",
    "# Transforming the list to a DataFrame\n",
    "boot_7d = pd.DataFrame(boot_7d)\n",
    "\n",
    "# Adding a column with the % difference between the two AB-groups\n",
    "boot_7d['diff'] = (boot_7d['gate_30'] - boot_7d['gate_40'])/boot_7d['gate_40']*100\n",
    "\n",
    "# Ploting the bootstrap % difference\n",
    "ax = boot_7d['diff'].plot(kind='density')\n",
    "ax.set_title('% difference in 7-day retention between the two AB-groups')\n",
    "\n",
    "# Calculating the probability that 7-day retention is greater when the gate is at level 30\n",
    "print('Probability that 7-day retention is greater when the gate is at level 30:',(boot_7d['diff'] > 0).mean())"
   ]
  },
  {
   "cell_type": "code",
   "execution_count": 98,
   "metadata": {},
   "outputs": [
    {
     "data": {
      "text/plain": [
       "<AxesSubplot:ylabel='Density'>"
      ]
     },
     "execution_count": 98,
     "metadata": {},
     "output_type": "execute_result"
    },
    {
     "data": {
      "image/png": "[encoded data removed]",
      "text/plain": [
       "<Figure size 432x288 with 1 Axes>"
      ]
     },
     "metadata": {
      "needs_background": "light"
     },
     "output_type": "display_data"
    }
   ],
   "source": [
    "boot_7d[['gate_30','gate_40']].plot(kind='density')"
   ]
  },
  {
   "cell_type": "raw",
   "metadata": {},
   "source": [
    "# Both charts indicate that there is a higher probability of retention of customers if the gate remains in gate_30 (shown in blue for both retention_1 and retention_7"
   ]
  }
 ],
 "metadata": {
  "interpreter": {
   "hash": "ed225720166559e7176d3793db16a2fd8d295f725007103b21ac3099d2a89ee8"
  },
  "kernelspec": {
   "display_name": "Python 3",
   "language": "python",
   "name": "python3"
  },
  "language_info": {
   "codemirror_mode": {
    "name": "ipython",
    "version": 3
   },
   "file_extension": ".py",
   "mimetype": "text/x-python",
   "name": "python",
   "nbconvert_exporter": "python",
   "pygments_lexer": "ipython3",
   "version": "3.8.8"
  }
 },
 "nbformat": 4,
 "nbformat_minor": 2
}
